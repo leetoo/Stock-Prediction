{
  "cells": [
    {
      "metadata": {
        "_uuid": "ee68f7300fad7c77aa3d39edb4373c5f0ab9c740"
      },
      "cell_type": "markdown",
      "source": "# Random Classifier Baseline\nCode Prepared by Joseph Greene: BU ECE M.S Student."
    },
    {
      "metadata": {
        "_uuid": "8f2839f25d086af736a60e9eeb907d3b93b6e0e5",
        "_cell_guid": "b1076dfc-b9ad-4769-8c92-a6c4dae69d19",
        "trusted": true
      },
      "cell_type": "code",
      "source": "from kaggle.competitions import twosigmanews\n# This Python 3 environment comes with many helpful analytics libraries installed\n# It is defined by the kaggle/python docker image: https://github.com/kaggle/docker-python\n# For example, here's several helpful packages to load in \n\nimport numpy as np # linear algebra\nimport pandas as pd # data processing, CSV file I/O (e.g. pd.read_csv)\n\n# Input data files are available in the \"../input/\" directory.\n# For example, running this (by clicking run or pressing Shift+Enter) will list the files in the input directory\n\nimport os\nprint(os.listdir(\"../input\"))\n\n# Any results you write to the current directory are saved as output.\n# You can only call make_env() once, so don't lose it!\nenv = twosigmanews.make_env()",
      "execution_count": null,
      "outputs": []
    },
    {
      "metadata": {
        "_cell_guid": "79c7e3d0-c299-4dcb-8224-4455121ee9b0",
        "_uuid": "d629ff2d2480ee46fbb7e2d37f6b5fab8052498a",
        "trusted": true
      },
      "cell_type": "code",
      "source": "#Generate predictions and submit to kaggle\ndays = env.get_prediction_days()\n\ndef generate_predictions(predictions_df):\n    proxy = np.random.rand(len(predictions_df))\n    proxy[proxy >= 0.5] = 1\n    proxy[proxy < 0.5] = -1\n    predictions_df.confidenceValue = proxy\n    \nfor (market_obs_df, news_obs_df, predictions_template_df) in days:\n    generate_predictions(predictions_template_df)\n    env.predict(predictions_template_df)\nprint('Done!')\n\nenv.write_submission_file()\n\n# We've got a submission file!\nimport os\nprint([filename for filename in os.listdir('.') if '.csv' in filename])",
      "execution_count": null,
      "outputs": []
    }
  ],
  "metadata": {
    "kernelspec": {
      "display_name": "Python 3",
      "language": "python",
      "name": "python3"
    },
    "language_info": {
      "name": "python",
      "version": "3.6.4",
      "mimetype": "text/x-python",
      "codemirror_mode": {
        "name": "ipython",
        "version": 3
      },
      "pygments_lexer": "ipython3",
      "nbconvert_exporter": "python",
      "file_extension": ".py"
    }
  },
  "nbformat": 4,
  "nbformat_minor": 1
}